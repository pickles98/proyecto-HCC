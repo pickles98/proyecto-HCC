{
 "cells": [
  {
   "cell_type": "markdown",
   "id": "f800f702",
   "metadata": {},
   "source": [
    "Importo las librerias que voy a utilizar para leer el archivo y quedarme solo con los datos que necesito."
   ]
  },
  {
   "cell_type": "code",
   "execution_count": 2,
   "id": "99e673cc",
   "metadata": {},
   "outputs": [],
   "source": [
    "import pandas as pd"
   ]
  },
  {
   "cell_type": "code",
   "execution_count": 5,
   "id": "f9ff817d",
   "metadata": {},
   "outputs": [],
   "source": [
    "archivo = '/home/pickles/Documentos/Universidad/Materias/HCC/proyecto_final/proyecto-HCC/asu.tsv'\n",
    "data = pd.read_csv(archivo, sep = '|')"
   ]
  },
  {
   "cell_type": "code",
   "execution_count": 10,
   "id": "e0d48d8b",
   "metadata": {},
   "outputs": [
    {
     "data": {
      "text/html": [
       "<div>\n",
       "<style scoped>\n",
       "    .dataframe tbody tr th:only-of-type {\n",
       "        vertical-align: middle;\n",
       "    }\n",
       "\n",
       "    .dataframe tbody tr th {\n",
       "        vertical-align: top;\n",
       "    }\n",
       "\n",
       "    .dataframe thead th {\n",
       "        text-align: right;\n",
       "    }\n",
       "</style>\n",
       "<table border=\"1\" class=\"dataframe\">\n",
       "  <thead>\n",
       "    <tr style=\"text-align: right;\">\n",
       "      <th></th>\n",
       "      <th>X</th>\n",
       "      <th>Y</th>\n",
       "      <th>Z</th>\n",
       "      <th>RAJ2000</th>\n",
       "      <th>DEJ2000</th>\n",
       "      <th>z</th>\n",
       "    </tr>\n",
       "  </thead>\n",
       "  <tbody>\n",
       "    <tr>\n",
       "      <th>0</th>\n",
       "      <td>-0.04896</td>\n",
       "      <td>0.06025</td>\n",
       "      <td>0.08893</td>\n",
       "      <td>129.093602</td>\n",
       "      <td>48.880112</td>\n",
       "      <td>0.118053</td>\n",
       "    </tr>\n",
       "    <tr>\n",
       "      <th>1</th>\n",
       "      <td>-0.04927</td>\n",
       "      <td>0.06013</td>\n",
       "      <td>0.08913</td>\n",
       "      <td>129.333969</td>\n",
       "      <td>48.906245</td>\n",
       "      <td>0.118268</td>\n",
       "    </tr>\n",
       "    <tr>\n",
       "      <th>2</th>\n",
       "      <td>-0.04945</td>\n",
       "      <td>0.06031</td>\n",
       "      <td>0.08926</td>\n",
       "      <td>129.350815</td>\n",
       "      <td>48.856141</td>\n",
       "      <td>0.118536</td>\n",
       "    </tr>\n",
       "    <tr>\n",
       "      <th>3</th>\n",
       "      <td>-0.04775</td>\n",
       "      <td>-0.00249</td>\n",
       "      <td>0.09856</td>\n",
       "      <td>182.990895</td>\n",
       "      <td>64.120498</td>\n",
       "      <td>0.109542</td>\n",
       "    </tr>\n",
       "    <tr>\n",
       "      <th>4</th>\n",
       "      <td>-0.04469</td>\n",
       "      <td>-0.00259</td>\n",
       "      <td>0.09177</td>\n",
       "      <td>183.316143</td>\n",
       "      <td>63.997007</td>\n",
       "      <td>0.102103</td>\n",
       "    </tr>\n",
       "    <tr>\n",
       "      <th>...</th>\n",
       "      <td>...</td>\n",
       "      <td>...</td>\n",
       "      <td>...</td>\n",
       "      <td>...</td>\n",
       "      <td>...</td>\n",
       "      <td>...</td>\n",
       "    </tr>\n",
       "    <tr>\n",
       "      <th>119785</th>\n",
       "      <td>-0.09209</td>\n",
       "      <td>0.02906</td>\n",
       "      <td>0.01642</td>\n",
       "      <td>162.486864</td>\n",
       "      <td>9.651224</td>\n",
       "      <td>0.097955</td>\n",
       "    </tr>\n",
       "    <tr>\n",
       "      <th>119786</th>\n",
       "      <td>-0.09187</td>\n",
       "      <td>0.02883</td>\n",
       "      <td>0.01634</td>\n",
       "      <td>162.577575</td>\n",
       "      <td>9.628749</td>\n",
       "      <td>0.097664</td>\n",
       "    </tr>\n",
       "    <tr>\n",
       "      <th>119787</th>\n",
       "      <td>-0.08247</td>\n",
       "      <td>0.02693</td>\n",
       "      <td>0.01512</td>\n",
       "      <td>161.916365</td>\n",
       "      <td>9.889721</td>\n",
       "      <td>0.088059</td>\n",
       "    </tr>\n",
       "    <tr>\n",
       "      <th>119788</th>\n",
       "      <td>-0.09290</td>\n",
       "      <td>0.03025</td>\n",
       "      <td>0.01698</td>\n",
       "      <td>161.961011</td>\n",
       "      <td>9.860375</td>\n",
       "      <td>0.099168</td>\n",
       "    </tr>\n",
       "    <tr>\n",
       "      <th>119789</th>\n",
       "      <td>-0.07300</td>\n",
       "      <td>0.02361</td>\n",
       "      <td>0.01358</td>\n",
       "      <td>162.079082</td>\n",
       "      <td>10.040918</td>\n",
       "      <td>0.077914</td>\n",
       "    </tr>\n",
       "  </tbody>\n",
       "</table>\n",
       "<p>119790 rows × 6 columns</p>\n",
       "</div>"
      ],
      "text/plain": [
       "              X        Y        Z     RAJ2000    DEJ2000         z\n",
       "0      -0.04896  0.06025  0.08893  129.093602  48.880112  0.118053\n",
       "1      -0.04927  0.06013  0.08913  129.333969  48.906245  0.118268\n",
       "2      -0.04945  0.06031  0.08926  129.350815  48.856141  0.118536\n",
       "3      -0.04775 -0.00249  0.09856  182.990895  64.120498  0.109542\n",
       "4      -0.04469 -0.00259  0.09177  183.316143  63.997007  0.102103\n",
       "...         ...      ...      ...         ...        ...       ...\n",
       "119785 -0.09209  0.02906  0.01642  162.486864   9.651224  0.097955\n",
       "119786 -0.09187  0.02883  0.01634  162.577575   9.628749  0.097664\n",
       "119787 -0.08247  0.02693  0.01512  161.916365   9.889721  0.088059\n",
       "119788 -0.09290  0.03025  0.01698  161.961011   9.860375  0.099168\n",
       "119789 -0.07300  0.02361  0.01358  162.079082  10.040918  0.077914\n",
       "\n",
       "[119790 rows x 6 columns]"
      ]
     },
     "execution_count": 10,
     "metadata": {},
     "output_type": "execute_result"
    }
   ],
   "source": [
    "data.head(120000)"
   ]
  },
  {
   "cell_type": "markdown",
   "id": "1e46312e",
   "metadata": {},
   "source": [
    "Defino los vectores columna que voy a utilizar:"
   ]
  },
  {
   "cell_type": "code",
   "execution_count": 11,
   "id": "c67ff58c",
   "metadata": {},
   "outputs": [],
   "source": [
    "RA = data['RAJ2000']\n",
    "DE = data['DEJ2000']\n",
    "rs = data['z']"
   ]
  },
  {
   "cell_type": "markdown",
   "id": "5ec57aa7",
   "metadata": {},
   "source": [
    "Defino mi nuevo dataframe donde voy a guardar estos vectores."
   ]
  },
  {
   "cell_type": "code",
   "execution_count": 14,
   "id": "8389e246",
   "metadata": {},
   "outputs": [],
   "source": [
    "data1 = {'RAJ2000': RA, 'DEJ2000': DE, 'redshift': rs}\n",
    "df = pd.DataFrame(data1)\n",
    "\n",
    "archivo_destino = '/home/pickles/Documentos/Universidad/Materias/HCC/proyecto_final/proyecto-HCC/asu1.tsv'\n",
    "\n",
    "df.to_csv(archivo_destino, index=False)"
   ]
  },
  {
   "cell_type": "code",
   "execution_count": null,
   "id": "80f5c932",
   "metadata": {},
   "outputs": [],
   "source": [
    "DEJ2000 = "
   ]
  }
 ],
 "metadata": {
  "kernelspec": {
   "display_name": "Python 3 (ipykernel)",
   "language": "python",
   "name": "python3"
  },
  "language_info": {
   "codemirror_mode": {
    "name": "ipython",
    "version": 3
   },
   "file_extension": ".py",
   "mimetype": "text/x-python",
   "name": "python",
   "nbconvert_exporter": "python",
   "pygments_lexer": "ipython3",
   "version": "3.9.13"
  }
 },
 "nbformat": 4,
 "nbformat_minor": 5
}
