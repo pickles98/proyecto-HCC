{
 "cells": [
  {
   "cell_type": "markdown",
   "id": "f800f702",
   "metadata": {},
   "source": [
    "Importo las librerias que voy a utilizar para leer el archivo y quedarme solo con los datos que necesito."
   ]
  },
  {
   "cell_type": "code",
   "execution_count": 1,
   "id": "99e673cc",
   "metadata": {},
   "outputs": [],
   "source": [
    "import pandas as pd\n",
    "import numpy as np\n",
    "import matplotlib.pyplot as plt"
   ]
  },
  {
   "cell_type": "code",
   "execution_count": 5,
   "id": "f9ff817d",
   "metadata": {},
   "outputs": [],
   "source": [
    "#archivo = '/home/pickles/Documentos/Universidad/Materias/HCC/proyecto_final/proyecto-HCC/asu.tsv'\n",
    "archivo = '/home/pickles/Documentos/Universidad/Materias/HCC/proyecto_final/proyecto-HCC/conteos.dat'\n",
    "data = pd.read_csv(archivo, sep = ' ', header=0, index_col=None)"
   ]
  },
  {
   "cell_type": "code",
   "execution_count": 6,
   "id": "e0d48d8b",
   "metadata": {},
   "outputs": [
    {
     "data": {
      "text/html": [
       "<div>\n",
       "<style scoped>\n",
       "    .dataframe tbody tr th:only-of-type {\n",
       "        vertical-align: middle;\n",
       "    }\n",
       "\n",
       "    .dataframe tbody tr th {\n",
       "        vertical-align: top;\n",
       "    }\n",
       "\n",
       "    .dataframe thead th {\n",
       "        text-align: right;\n",
       "    }\n",
       "</style>\n",
       "<table border=\"1\" class=\"dataframe\">\n",
       "  <thead>\n",
       "    <tr style=\"text-align: right;\">\n",
       "      <th></th>\n",
       "      <th>radio</th>\n",
       "      <th>promedio</th>\n",
       "    </tr>\n",
       "  </thead>\n",
       "  <tbody>\n",
       "    <tr>\n",
       "      <th>2</th>\n",
       "      <td>0.10</td>\n",
       "      <td>NaN</td>\n",
       "    </tr>\n",
       "    <tr>\n",
       "      <th>4</th>\n",
       "      <td>0.61</td>\n",
       "      <td>NaN</td>\n",
       "    </tr>\n",
       "    <tr>\n",
       "      <th>6</th>\n",
       "      <td>2.02</td>\n",
       "      <td>NaN</td>\n",
       "    </tr>\n",
       "    <tr>\n",
       "      <th>8</th>\n",
       "      <td>5.04</td>\n",
       "      <td>NaN</td>\n",
       "    </tr>\n",
       "    <tr>\n",
       "      <th>10</th>\n",
       "      <td>10.23</td>\n",
       "      <td>NaN</td>\n",
       "    </tr>\n",
       "    <tr>\n",
       "      <th>...</th>\n",
       "      <td>...</td>\n",
       "      <td>...</td>\n",
       "    </tr>\n",
       "    <tr>\n",
       "      <th>190</th>\n",
       "      <td>22864.50</td>\n",
       "      <td>NaN</td>\n",
       "    </tr>\n",
       "    <tr>\n",
       "      <th>192</th>\n",
       "      <td>23402.90</td>\n",
       "      <td>NaN</td>\n",
       "    </tr>\n",
       "    <tr>\n",
       "      <th>194</th>\n",
       "      <td>23945.00</td>\n",
       "      <td>NaN</td>\n",
       "    </tr>\n",
       "    <tr>\n",
       "      <th>196</th>\n",
       "      <td>24492.50</td>\n",
       "      <td>NaN</td>\n",
       "    </tr>\n",
       "    <tr>\n",
       "      <th>198</th>\n",
       "      <td>25048.10</td>\n",
       "      <td>NaN</td>\n",
       "    </tr>\n",
       "  </tbody>\n",
       "</table>\n",
       "<p>99 rows × 2 columns</p>\n",
       "</div>"
      ],
      "text/plain": [
       "        radio  promedio\n",
       "2        0.10       NaN\n",
       "4        0.61       NaN\n",
       "6        2.02       NaN\n",
       "8        5.04       NaN\n",
       "10      10.23       NaN\n",
       "..        ...       ...\n",
       "190  22864.50       NaN\n",
       "192  23402.90       NaN\n",
       "194  23945.00       NaN\n",
       "196  24492.50       NaN\n",
       "198  25048.10       NaN\n",
       "\n",
       "[99 rows x 2 columns]"
      ]
     },
     "execution_count": 6,
     "metadata": {},
     "output_type": "execute_result"
    }
   ],
   "source": [
    "data.head(200)"
   ]
  },
  {
   "cell_type": "markdown",
   "id": "1e46312e",
   "metadata": {},
   "source": [
    "Defino los vectores columna que voy a utilizar:"
   ]
  },
  {
   "cell_type": "code",
   "execution_count": 11,
   "id": "c67ff58c",
   "metadata": {},
   "outputs": [],
   "source": [
    "RA = data['RAJ2000']\n",
    "DE = data['DEJ2000']\n",
    "rs = data['z']"
   ]
  },
  {
   "cell_type": "markdown",
   "id": "5ec57aa7",
   "metadata": {},
   "source": [
    "Defino mi nuevo dataframe donde voy a guardar estos vectores."
   ]
  },
  {
   "cell_type": "code",
   "execution_count": 14,
   "id": "8389e246",
   "metadata": {},
   "outputs": [],
   "source": [
    "data1 = {'RAJ2000': RA, 'DEJ2000': DE, 'redshift': rs}\n",
    "df = pd.DataFrame(data1)\n",
    "\n",
    "archivo_destino = '/home/pickles/Documentos/Universidad/Materias/HCC/proyecto_final/proyecto-HCC/asu1.tsv'\n",
    "\n",
    "df.to_csv(archivo_destino, index=False)"
   ]
  },
  {
   "cell_type": "code",
   "execution_count": 2,
   "id": "80f5c932",
   "metadata": {},
   "outputs": [],
   "source": [
    "#archivo = '/home/pickles/Documentos/Universidad/Materias/HCC/proyecto_final/proyecto-HCC/asu.tsv'\n",
    "archivo = '/home/pickles/Documentos/Universidad/Materias/HCC/proyecto_final/proyecto-HCC/conteos.dat'\n",
    "data = pd.read_csv(archivo, sep = ' ', header=0, index_col=None)"
   ]
  },
  {
   "cell_type": "code",
   "execution_count": 3,
   "id": "b0729c98",
   "metadata": {},
   "outputs": [
    {
     "data": {
      "text/html": [
       "<div>\n",
       "<style scoped>\n",
       "    .dataframe tbody tr th:only-of-type {\n",
       "        vertical-align: middle;\n",
       "    }\n",
       "\n",
       "    .dataframe tbody tr th {\n",
       "        vertical-align: top;\n",
       "    }\n",
       "\n",
       "    .dataframe thead th {\n",
       "        text-align: right;\n",
       "    }\n",
       "</style>\n",
       "<table border=\"1\" class=\"dataframe\">\n",
       "  <thead>\n",
       "    <tr style=\"text-align: right;\">\n",
       "      <th></th>\n",
       "      <th>radio</th>\n",
       "      <th>cant.prom.gal.</th>\n",
       "    </tr>\n",
       "  </thead>\n",
       "  <tbody>\n",
       "    <tr>\n",
       "      <th>2</th>\n",
       "      <td>0.10</td>\n",
       "      <td>NaN</td>\n",
       "    </tr>\n",
       "    <tr>\n",
       "      <th>4</th>\n",
       "      <td>0.61</td>\n",
       "      <td>NaN</td>\n",
       "    </tr>\n",
       "    <tr>\n",
       "      <th>6</th>\n",
       "      <td>2.02</td>\n",
       "      <td>NaN</td>\n",
       "    </tr>\n",
       "    <tr>\n",
       "      <th>8</th>\n",
       "      <td>5.04</td>\n",
       "      <td>NaN</td>\n",
       "    </tr>\n",
       "    <tr>\n",
       "      <th>10</th>\n",
       "      <td>10.23</td>\n",
       "      <td>NaN</td>\n",
       "    </tr>\n",
       "    <tr>\n",
       "      <th>...</th>\n",
       "      <td>...</td>\n",
       "      <td>...</td>\n",
       "    </tr>\n",
       "    <tr>\n",
       "      <th>190</th>\n",
       "      <td>22864.50</td>\n",
       "      <td>NaN</td>\n",
       "    </tr>\n",
       "    <tr>\n",
       "      <th>192</th>\n",
       "      <td>23402.90</td>\n",
       "      <td>NaN</td>\n",
       "    </tr>\n",
       "    <tr>\n",
       "      <th>194</th>\n",
       "      <td>23945.00</td>\n",
       "      <td>NaN</td>\n",
       "    </tr>\n",
       "    <tr>\n",
       "      <th>196</th>\n",
       "      <td>24492.50</td>\n",
       "      <td>NaN</td>\n",
       "    </tr>\n",
       "    <tr>\n",
       "      <th>198</th>\n",
       "      <td>25048.10</td>\n",
       "      <td>NaN</td>\n",
       "    </tr>\n",
       "  </tbody>\n",
       "</table>\n",
       "<p>99 rows × 2 columns</p>\n",
       "</div>"
      ],
      "text/plain": [
       "        radio  cant.prom.gal.\n",
       "2        0.10             NaN\n",
       "4        0.61             NaN\n",
       "6        2.02             NaN\n",
       "8        5.04             NaN\n",
       "10      10.23             NaN\n",
       "..        ...             ...\n",
       "190  22864.50             NaN\n",
       "192  23402.90             NaN\n",
       "194  23945.00             NaN\n",
       "196  24492.50             NaN\n",
       "198  25048.10             NaN\n",
       "\n",
       "[99 rows x 2 columns]"
      ]
     },
     "execution_count": 3,
     "metadata": {},
     "output_type": "execute_result"
    }
   ],
   "source": [
    "data.head(200)"
   ]
  },
  {
   "cell_type": "code",
   "execution_count": 45,
   "id": "17ede26a",
   "metadata": {},
   "outputs": [
    {
     "data": {
      "image/png": "[encoded data removed]",
      "text/plain": [
       "<Figure size 640x480 with 1 Axes>"
      ]
     },
     "metadata": {},
     "output_type": "display_data"
    }
   ],
   "source": [
    "x = data['radio']\n",
    "g1 = data['galaxia1']\n",
    "g2 = data['galaxia2']\n",
    "g3 = data['galaxia3']\n",
    "g4 = data['galaxia4']\n",
    "g5 = data['galaxia5']\n",
    "g6 = data['galaxia6']\n",
    "g7 = data['galaxia7']\n",
    "g8 = data['galaxia8']\n",
    "g9 = data['galaxia9']\n",
    "g10 = data['galaxia10']\n",
    "plt.plot(x, g1)\n",
    "plt.plot(x, g2)\n",
    "plt.plot(x, g3)\n",
    "plt.plot(x, g4)\n",
    "plt.plot(x, g5)\n",
    "plt.plot(x, g6)\n",
    "plt.plot(x, g7)\n",
    "plt.plot(x, g8)\n",
    "plt.plot(x, g9)\n",
    "plt.plot(x, g10)\n",
    "plt.xlabel('r[Mpc]')\n",
    "plt.ylabel('Nro. galaxias')\n",
    "plt.show()"
   ]
  },
  {
   "cell_type": "code",
   "execution_count": null,
   "id": "d0d99e9a",
   "metadata": {},
   "outputs": [],
   "source": []
  }
 ],
 "metadata": {
  "kernelspec": {
   "display_name": "Python 3 (ipykernel)",
   "language": "python",
   "name": "python3"
  },
  "language_info": {
   "codemirror_mode": {
    "name": "ipython",
    "version": 3
   },
   "file_extension": ".py",
   "mimetype": "text/x-python",
   "name": "python",
   "nbconvert_exporter": "python",
   "pygments_lexer": "ipython3",
   "version": "3.9.13"
  }
 },
 "nbformat": 4,
 "nbformat_minor": 5
}
