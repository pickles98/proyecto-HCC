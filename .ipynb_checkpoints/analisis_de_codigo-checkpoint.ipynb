{
 "cells": [
  {
   "cell_type": "markdown",
   "id": "9df2bf8a",
   "metadata": {},
   "source": [
    "Vamos a ir desmenuzando el código de que Dondorp de a partes"
   ]
  },
  {
   "cell_type": "code",
   "execution_count": 1,
   "id": "9eed4898",
   "metadata": {},
   "outputs": [],
   "source": [
    "import numpy as np\n",
    "import matplotlib.pyplot as plt\n",
    "import ipyvolume as ipv\n",
    "from ipywidgets import interact, interact_manual, widgets"
   ]
  },
  {
   "cell_type": "code",
   "execution_count": 5,
   "id": "cfccea73",
   "metadata": {},
   "outputs": [],
   "source": [
    "def make_box(box_size, space_size = None):\n",
    "    if not space_size:\n",
    "        space_size = box_size + 100\n",
    "    box = np.zeros([space_size for x in range(3)])\n",
    "    start = (space_size - box_size) // 2\n",
    "    end = space_size - start\n",
    "    box[start:end, start:end, start:end] = 1\n",
    "    return(box)"
   ]
  },
  {
   "cell_type": "code",
   "execution_count": 6,
   "id": "9ec42841",
   "metadata": {},
   "outputs": [],
   "source": [
    "box = make_box(box_size=200)"
   ]
  },
  {
   "cell_type": "code",
   "execution_count": null,
   "id": "e7795e20",
   "metadata": {},
   "outputs": [],
   "source": [
    "ipv.quickvolshow(box, level = [1,1,1], opacity = [0.2,0.2,0.2])"
   ]
  }
 ],
 "metadata": {
  "kernelspec": {
   "display_name": "Python 3 (ipykernel)",
   "language": "python",
   "name": "python3"
  },
  "language_info": {
   "codemirror_mode": {
    "name": "ipython",
    "version": 3
   },
   "file_extension": ".py",
   "mimetype": "text/x-python",
   "name": "python",
   "nbconvert_exporter": "python",
   "pygments_lexer": "ipython3",
   "version": "3.9.13"
  }
 },
 "nbformat": 4,
 "nbformat_minor": 5
}
