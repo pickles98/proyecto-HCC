{
 "cells": [
  {
   "cell_type": "markdown",
   "id": "848b6d7a",
   "metadata": {},
   "source": [
    "En esta jupyter-notebook vamos a desmenuzar de a poco el código de Dondorp."
   ]
  },
  {
   "cell_type": "code",
   "execution_count": 2,
   "id": "9eed4898",
   "metadata": {},
   "outputs": [],
   "source": [
    "import numpy as np\n",
    "import matplotlib.pyplot as plt\n",
    "import ipyvolume as ipv\n",
    "from ipywidgets import interact, interact_manual, widgets"
   ]
  },
  {
   "cell_type": "markdown",
   "id": "e4201415",
   "metadata": {},
   "source": [
    "La libreria ipyvolume nos da herramientas para visualizar volúmenes en 3D. La libreria ipywidgets nos brinda herramientas interactivas para agregar a las jupyter-notebooks."
   ]
  },
  {
   "cell_type": "code",
   "execution_count": 3,
   "id": "cfccea73",
   "metadata": {},
   "outputs": [],
   "source": [
    "def make_box(box_size, space_size = None):\n",
    "    if not space_size:\n",
    "        space_size = box_size + 100\n",
    "    box = np.zeros([space_size for x in range(3)])\n",
    "    start = (space_size - box_size) // 2\n",
    "    end = space_size - start\n",
    "    box[start:end, start:end, start:end] = 1\n",
    "    return(box)"
   ]
  },
  {
   "cell_type": "code",
   "execution_count": 4,
   "id": "133a3117",
   "metadata": {},
   "outputs": [],
   "source": [
    "box = make_box(box_size=200)"
   ]
  },
  {
   "cell_type": "markdown",
   "id": "09346bca",
   "metadata": {},
   "source": [
    "Aqui define una función que nos devuelve una caja tridimensional (matriz tridimensional) llena de 1s de tamaño box_size centrada en una caja tridimensional (matriz tridimensional) llena de 0s de tamaño space_size.\n",
    "En la matriz tridimensional la caja que creamos estará centrada siempre que no definamos explicitamente el valor de space_size; si lo definimos creo que no necesariamente estará centrada.\n",
    "\n",
    "Utilicemos como ejemplo la misma función pero con space_size = box_size + 2:"
   ]
  },
  {
   "cell_type": "code",
   "execution_count": 5,
   "id": "ae29fc78",
   "metadata": {},
   "outputs": [],
   "source": [
    "def make_box1(box_size, space_size = None):\n",
    "    if not space_size:\n",
    "        space_size = box_size + 2\n",
    "    box = np.zeros([space_size for x in range(3)])\n",
    "    start = (space_size - box_size) // 2\n",
    "    end = space_size - start\n",
    "    box[start:end, start:end, start:end] = 1\n",
    "    return(box)"
   ]
  },
  {
   "cell_type": "code",
   "execution_count": 6,
   "id": "63ebb844",
   "metadata": {},
   "outputs": [
    {
     "name": "stdout",
     "output_type": "stream",
     "text": [
      "[[[0. 0. 0. 0.]\n",
      "  [0. 0. 0. 0.]\n",
      "  [0. 0. 0. 0.]\n",
      "  [0. 0. 0. 0.]]\n",
      "\n",
      " [[0. 0. 0. 0.]\n",
      "  [0. 1. 1. 0.]\n",
      "  [0. 1. 1. 0.]\n",
      "  [0. 0. 0. 0.]]\n",
      "\n",
      " [[0. 0. 0. 0.]\n",
      "  [0. 1. 1. 0.]\n",
      "  [0. 1. 1. 0.]\n",
      "  [0. 0. 0. 0.]]\n",
      "\n",
      " [[0. 0. 0. 0.]\n",
      "  [0. 0. 0. 0.]\n",
      "  [0. 0. 0. 0.]\n",
      "  [0. 0. 0. 0.]]]\n"
     ]
    }
   ],
   "source": [
    "box1 = make_box1(box_size=2)\n",
    "print(box1)"
   ]
  },
  {
   "cell_type": "code",
   "execution_count": 7,
   "id": "fc34ce67",
   "metadata": {},
   "outputs": [
    {
     "name": "stdout",
     "output_type": "stream",
     "text": [
      "(8000000, 3)\n"
     ]
    }
   ],
   "source": [
    "locs = np.where(box > 0)\n",
    "pixels = [(x,y,z) for x,y,z in zip(*locs)]\n",
    "pixels = np.array(pixels)\n",
    "print(pixels.shape)"
   ]
  },
  {
   "cell_type": "markdown",
   "id": "ce3ccdb2",
   "metadata": {},
   "source": [
    "Esta linea de código lo que hace es:\n",
    "- Con np.where(box>0) arma una lista con tres arrays que contienen las coordenadas (x,y,z) de cada valor distinto de 0. O sea el primer array tiene las coordenadas x de todos los elementos de la caja que armamos, el segundo array contiene a las coordenadas 'y' y el tercer array tiene las coordenadas z.\n",
    "- Con zip(* locs) arma ternas utilizando los arrays de la lista locs.\n",
    "- Con np.array(pixels) arma un array bidimensional (una matriz) cuyas filas contienen las coordenadas de los puntos de la caja tridimensional.\n",
    "- pixels.shape nos da como resultado (8000000,3) que quiere decir que tenemos dos dimensiones, la primera con la cantidad de puntos que tiene la caja y el tercero con la cantidad de coordenadas, que obviamente debe ser 3."
   ]
  },
  {
   "cell_type": "markdown",
   "id": "f690b15c",
   "metadata": {},
   "source": [
    "Para ver que nos da estas lineas de código vamos a tomar como ejemplo la caja box1:"
   ]
  },
  {
   "cell_type": "code",
   "execution_count": 8,
   "id": "bb72864b",
   "metadata": {},
   "outputs": [
    {
     "name": "stdout",
     "output_type": "stream",
     "text": [
      "[(1, 1, 1), (1, 1, 2), (1, 2, 1), (1, 2, 2), (2, 1, 1), (2, 1, 2), (2, 2, 1), (2, 2, 2)]\n",
      "\n",
      "[[1 1 1]\n",
      " [1 1 2]\n",
      " [1 2 1]\n",
      " [1 2 2]\n",
      " [2 1 1]\n",
      " [2 1 2]\n",
      " [2 2 1]\n",
      " [2 2 2]]\n",
      "\n",
      "(8, 3)\n"
     ]
    }
   ],
   "source": [
    "locs = np.where(box1 > 0)\n",
    "pixels = [(x,y,z) for x,y,z in zip(*locs)]\n",
    "print(pixels)\n",
    "print()\n",
    "pixels = np.array(pixels)\n",
    "print(pixels)\n",
    "print()\n",
    "print(pixels.shape)"
   ]
  },
  {
   "cell_type": "markdown",
   "id": "464fa2fa",
   "metadata": {},
   "source": [
    "Vemos que en box1 solo tenemos 8 elementos distintos de 0 y con esta linea de códigos obtenemos las coordenadas de todos esos puntos. pixels.shape nos dice que tenemos 8 posiciones y 3 coordenadas para cada posición."
   ]
  },
  {
   "cell_type": "code",
   "execution_count": 16,
   "id": "f816a984",
   "metadata": {},
   "outputs": [
    {
     "name": "stdout",
     "output_type": "stream",
     "text": [
      "[[[0. 0. 0. 0.]\n",
      "  [0. 0. 0. 0.]\n",
      "  [0. 0. 0. 0.]\n",
      "  [0. 0. 0. 0.]]\n",
      "\n",
      " [[0. 0. 0. 0.]\n",
      "  [0. 1. 1. 0.]\n",
      "  [0. 1. 1. 0.]\n",
      "  [0. 0. 0. 0.]]\n",
      "\n",
      " [[0. 0. 0. 0.]\n",
      "  [0. 1. 1. 0.]\n",
      "  [0. 1. 1. 0.]\n",
      "  [0. 0. 0. 0.]]\n",
      "\n",
      " [[0. 0. 0. 0.]\n",
      "  [0. 0. 0. 0.]\n",
      "  [0. 0. 0. 0.]\n",
      "  [0. 0. 0. 0.]]]\n",
      "\n",
      "(300, 300, 300)\n",
      "\n",
      "4\n"
     ]
    }
   ],
   "source": [
    "print(box1)\n",
    "print()\n",
    "print(box.shape)\n",
    "print()\n",
    "print(np.min(box1.shape))"
   ]
  },
  {
   "cell_type": "code",
   "execution_count": 14,
   "id": "3c939a47",
   "metadata": {},
   "outputs": [
    {
     "name": "stdout",
     "output_type": "stream",
     "text": [
      "8.228818690495881\n",
      "\n",
      "8\n",
      "\n",
      "8.0\n",
      "\n",
      "largest_box_size = 256\n"
     ]
    }
   ],
   "source": [
    "exponent_data = np.log(np.min(box.shape)) / np.log(2)\n",
    "print(exponent_data)\n",
    "print()\n",
    "largest_box_size_exponent = int(np.floor(exponent_data))\n",
    "print(largest_box_size_exponent)\n",
    "print()\n",
    "print(np.floor(exponent_data))\n",
    "print()\n",
    "print(f\"largest_box_size = {2**largest_box_size_exponent}\")"
   ]
  },
  {
   "cell_type": "code",
   "execution_count": 20,
   "id": "7e0be6a9",
   "metadata": {},
   "outputs": [
    {
     "name": "stdout",
     "output_type": "stream",
     "text": [
      "largest_exponent = 8, box_size = 256\n"
     ]
    },
    {
     "data": {
      "text/plain": [
       "8.228818690495881"
      ]
     },
     "execution_count": 20,
     "metadata": {},
     "output_type": "execute_result"
    }
   ],
   "source": [
    "largest_exponent = int(np.floor(np.log2(np.min(box.shape))))\n",
    "print(f\"largest_exponent = {largest_exponent}, box_size = {2**largest_exponent}\")\n",
    "np.log2(np.min(box.shape))"
   ]
  },
  {
   "cell_type": "code",
   "execution_count": 21,
   "id": "811ad963",
   "metadata": {},
   "outputs": [
    {
     "name": "stdout",
     "output_type": "stream",
     "text": [
      "[256, 128, 64, 32, 16, 8, 4]\n"
     ]
    }
   ],
   "source": [
    "scales = [2**x for x in range(largest_exponent, 1, -1)]\n",
    "print(scales)"
   ]
  }
 ],
 "metadata": {
  "kernelspec": {
   "display_name": "Python 3 (ipykernel)",
   "language": "python",
   "name": "python3"
  },
  "language_info": {
   "codemirror_mode": {
    "name": "ipython",
    "version": 3
   },
   "file_extension": ".py",
   "mimetype": "text/x-python",
   "name": "python",
   "nbconvert_exporter": "python",
   "pygments_lexer": "ipython3",
   "version": "3.9.13"
  }
 },
 "nbformat": 4,
 "nbformat_minor": 5
}
